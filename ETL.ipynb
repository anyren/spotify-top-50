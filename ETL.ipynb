{
 "cells": [
  {
   "cell_type": "markdown",
   "id": "8d303f28",
   "metadata": {},
   "source": [
    "# Overview"
   ]
  },
  {
   "cell_type": "markdown",
   "id": "9054c988",
   "metadata": {},
   "source": [
    "# Extract\n",
    "where we put the summary of how we are extracting the data"
   ]
  },
  {
   "cell_type": "code",
   "execution_count": 1,
   "id": "a2ddaf5f",
   "metadata": {},
   "outputs": [],
   "source": [
    "import pandas as pd\n",
    "from sqlalchemy import create_engine, inspect\n",
    "from config import db_password"
   ]
  },
  {
   "cell_type": "code",
   "execution_count": null,
   "id": "3ecd74c8",
   "metadata": {},
   "outputs": [],
   "source": [
    "file_2021 = \"data/spotify_top50_2021.csv\"\n",
    "file_2020 = \"data/spotify_toptracks_2020.csv\""
   ]
  },
  {
   "cell_type": "markdown",
   "id": "c550d4a2",
   "metadata": {},
   "source": [
    "# Transform\n",
    "\n",
    "The 2020 and 2021 Spotify top 50 tracks datasets were cleaned and combined into one database."
   ]
  },
  {
   "cell_type": "markdown",
   "id": "3c399fb3",
   "metadata": {},
   "source": [
    "## Cleaning\n",
    "\n",
    "* A year column was added to both dataframes. \n",
    "* In the 2021 dataframe, the 'id' column was renamed to 'rank' and the 'artist_nam'e column was renamed to 'artist'. \n",
    "* In the 2020 dataframe, the 'Unnamed: 0' was renamed to 'rank'.\n",
    "* The 2020 dataframe rank column was edited so that the first place ranking is 1."
   ]
  },
  {
   "cell_type": "code",
   "execution_count": null,
   "id": "38218460",
   "metadata": {},
   "outputs": [],
   "source": [
    "df_2021 = pd.read_csv(file_2021)\n",
    "df_2021['year'] = 2021\n",
    "df_2021.rename(columns={'id':\"rank\",\"artist_name\":\"artist\"}, inplace=True)\n",
    "df_2021.head()"
   ]
  },
  {
   "cell_type": "code",
   "execution_count": null,
   "id": "2180bcce",
   "metadata": {},
   "outputs": [],
   "source": [
    "df_2020 = pd.read_csv(file_2020)\n",
    "df_2020['year'] = 2020\n",
    "df_2020.rename(columns={'Unnamed: 0':\"rank\"}, inplace=True)\n",
    "df_2020.head()"
   ]
  },
  {
   "cell_type": "code",
   "execution_count": null,
   "id": "e08a9cde",
   "metadata": {},
   "outputs": [],
   "source": [
    "# start rank at 1 instead of 0\n",
    "df_2020['rank'] = df_2020['rank'] + 1\n",
    "df_2020.head()"
   ]
  },
  {
   "cell_type": "markdown",
   "id": "70461342",
   "metadata": {},
   "source": [
    "## Combining Cleaned Dataframes\n",
    "* The 2020 and 2021 dataframes were combined into one dataframe."
   ]
  },
  {
   "cell_type": "code",
   "execution_count": null,
   "id": "134a0ad4",
   "metadata": {},
   "outputs": [],
   "source": [
    "# song data columns:\n",
    "# danceability, energy, key, loudness, speechiness, acousticness, instrumentalness, liveness, valence, tempo, duration_ms\n",
    "\n",
    "df_2021 = df_2021[['year','rank','artist','track_name','danceability', 'energy', 'key', 'loudness', \n",
    "         'speechiness', 'acousticness', 'instrumentalness', 'liveness', 'valence', 'tempo', 'duration_ms']].copy()\n",
    "\n",
    "df_2020 = df_2020[['year','rank','artist','track_name','danceability', 'energy', 'key', 'loudness', \n",
    "         'speechiness', 'acousticness', 'instrumentalness', 'liveness', 'valence', 'tempo', 'duration_ms']].copy()\n",
    "\n",
    "df_combined = pd.concat([df_2021, df_2020])\n",
    "df_combined.head(100)"
   ]
  },
  {
   "cell_type": "markdown",
   "id": "bb8c726c",
   "metadata": {},
   "source": [
    "## Creating the artist dataframe\n",
    "* Combined_df was filtered by unique values in the artist column.\n",
    "* A new column named \"artist_id\" was created for a primary key."
   ]
  },
  {
   "cell_type": "code",
   "execution_count": null,
   "id": "006eab4c",
   "metadata": {},
   "outputs": [],
   "source": [
    "artists = pd.DataFrame(df_combined['artist'].unique())\n",
    "artists.rename(columns={0:'artist_name'}, inplace=True)\n",
    "artists.insert(0, 'artist_id', range(1, 1 + len(artists)))\n",
    "artists.head()"
   ]
  },
  {
   "cell_type": "markdown",
   "id": "0c6e758b",
   "metadata": {},
   "source": [
    "## Creating the tracks dataframe\n",
    "* Columns from combined_df with data pertaining to each track were copied from combined_df into a new dataframe.\n",
    "* Duplicate track_names were dropped.\n",
    "* The dataframe was sorted alphabetically by track_name.\n",
    "* A new column named track_id was added to use as a primary key."
   ]
  },
  {
   "cell_type": "code",
   "execution_count": null,
   "id": "d8ba6843",
   "metadata": {},
   "outputs": [],
   "source": [
    "tracks = df_combined[['track_name','artist','danceability', 'energy', 'key', 'loudness', \n",
    "         'speechiness', 'acousticness', 'instrumentalness', 'liveness', 'valence', 'tempo', 'duration_ms']].copy()\n",
    "tracks = tracks.drop_duplicates(subset=\"track_name\")\n",
    "tracks.sort_values('track_name').head(25)"
   ]
  },
  {
   "cell_type": "code",
   "execution_count": null,
   "id": "fc58b842",
   "metadata": {},
   "outputs": [],
   "source": [
    "tracks.insert(0, 'track_id', range(1, 1 + len(tracks)))\n",
    "tracks.head()"
   ]
  },
  {
   "cell_type": "code",
   "execution_count": null,
   "id": "3af71965",
   "metadata": {},
   "outputs": [],
   "source": [
    "tm = tracks.merge(artists, left_on=\"artist\", right_on=\"artist_name\")\n",
    "tm.head()"
   ]
  },
  {
   "cell_type": "code",
   "execution_count": null,
   "id": "982869ab",
   "metadata": {},
   "outputs": [],
   "source": [
    "tracks = tm[['track_id','artist_id','track_name','danceability', 'energy', 'key', 'loudness', \n",
    "         'speechiness', 'acousticness', 'instrumentalness', 'liveness', 'valence', 'tempo', 'duration_ms']].copy()\n",
    "tracks.head()"
   ]
  },
  {
   "cell_type": "markdown",
   "id": "8dde380c",
   "metadata": {},
   "source": [
    "## Creating the chart dataframe\n",
    "* The \"year\", \"rank\", \"artist\", and \"track_name\" columns from combined_df were copied into a new dataframe.\n"
   ]
  },
  {
   "cell_type": "code",
   "execution_count": null,
   "id": "cf065088",
   "metadata": {},
   "outputs": [],
   "source": [
    "chart = df_combined[['year','rank','artist','track_name']]\n",
    "chart.head()"
   ]
  },
  {
   "cell_type": "code",
   "execution_count": null,
   "id": "35980cb9",
   "metadata": {},
   "outputs": [],
   "source": [
    "cm=chart.merge(tracks, on='track_name')\n",
    "cm = cm.merge(artists, left_on='artist',right_on='artist_name')\n",
    "cm.head()"
   ]
  },
  {
   "cell_type": "code",
   "execution_count": null,
   "id": "a762170a",
   "metadata": {},
   "outputs": [],
   "source": [
    "chart = cm[['year','rank','track_id','artist_id_y']].copy()\n",
    "chart.rename(columns={'artist_id_y':'artist_id'}, inplace=True)\n",
    "chart.head()"
   ]
  },
  {
   "cell_type": "code",
   "execution_count": null,
   "id": "fee1bda9",
   "metadata": {},
   "outputs": [],
   "source": [
    "chart.sort_values(['year','rank'])"
   ]
  },
  {
   "cell_type": "markdown",
   "id": "6cb2a4e2",
   "metadata": {},
   "source": [
    "# Load\n",
    "describe how we put the data into the database"
   ]
  },
  {
   "cell_type": "code",
   "execution_count": 2,
   "id": "7bfb3abc",
   "metadata": {},
   "outputs": [],
   "source": [
    "# Connection to database\n",
    "# Change username, password, host to match your config. Password should be imported from config.py\n",
    "protocol = 'postgresql'\n",
    "username = 'postgres'\n",
    "password = db_password\n",
    "host = 'localhost'\n",
    "port = 5432\n",
    "database_name = 'spotify_top50'\n",
    "rds_connection_string = f'{protocol}://{username}:{password}@{host}:{port}/{database_name}'\n",
    "engine = create_engine(rds_connection_string)"
   ]
  },
  {
   "cell_type": "code",
   "execution_count": 3,
   "id": "81143c72",
   "metadata": {},
   "outputs": [
    {
     "data": {
      "text/plain": [
       "['test']"
      ]
     },
     "execution_count": 3,
     "metadata": {},
     "output_type": "execute_result"
    }
   ],
   "source": [
    "inspector = inspect(engine)\n",
    "inspector.get_table_names()"
   ]
  },
  {
   "cell_type": "code",
   "execution_count": null,
   "id": "b6129a81",
   "metadata": {},
   "outputs": [],
   "source": [
    "# Load dataframes into database\n",
    "artists.to_sql(name='artists', con=engine, if_exists='append', index=False)\n",
    "tracks.to_sql(name='tracks', con=engine, if_exists='append', index=False)\n",
    "chart.to_sql(name='chart', con=engine, if_exists='append', index=False)"
   ]
  },
  {
   "cell_type": "code",
   "execution_count": null,
   "id": "a213cbed",
   "metadata": {},
   "outputs": [],
   "source": [
    "pd.read_sql_query('select * artists', con=engine).head() "
   ]
  }
 ],
 "metadata": {
  "kernelspec": {
   "display_name": "Python 3 (ipykernel)",
   "language": "python",
   "name": "python3"
  },
  "language_info": {
   "codemirror_mode": {
    "name": "ipython",
    "version": 3
   },
   "file_extension": ".py",
   "mimetype": "text/x-python",
   "name": "python",
   "nbconvert_exporter": "python",
   "pygments_lexer": "ipython3",
   "version": "3.8.13"
  }
 },
 "nbformat": 4,
 "nbformat_minor": 5
}
